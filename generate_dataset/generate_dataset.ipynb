{
 "cells": [
  {
   "cell_type": "markdown",
   "metadata": {},
   "source": [
    "Import Packages"
   ]
  },
  {
   "cell_type": "code",
   "execution_count": 273,
   "metadata": {},
   "outputs": [],
   "source": [
    "import random\n",
    "import numpy as np\n",
    "import pandas as pd"
   ]
  },
  {
   "cell_type": "markdown",
   "metadata": {},
   "source": [
    "How many Number of records want to generate"
   ]
  },
  {
   "cell_type": "code",
   "execution_count": 274,
   "metadata": {},
   "outputs": [],
   "source": [
    "num_records = 1000"
   ]
  },
  {
   "cell_type": "markdown",
   "metadata": {},
   "source": [
    "Generate transaction id"
   ]
  },
  {
   "cell_type": "code",
   "execution_count": 275,
   "metadata": {},
   "outputs": [],
   "source": [
    "import string\n",
    "def gen_trans_id(length=12):\n",
    "    characters = string.ascii_letters + string.digits\n",
    "    transaction_id = ''.join(random.choice(characters) for _ in range(length))\n",
    "    return transaction_id"
   ]
  },
  {
   "cell_type": "code",
   "execution_count": 276,
   "metadata": {},
   "outputs": [],
   "source": [
    "Trans_ID = [gen_trans_id() for _ in range(num_records)]"
   ]
  },
  {
   "cell_type": "markdown",
   "metadata": {},
   "source": [
    "Generate Region"
   ]
  },
  {
   "cell_type": "code",
   "execution_count": 277,
   "metadata": {},
   "outputs": [],
   "source": [
    "Region= [random.choice(['Asia', 'Europe', 'Middle East', \n",
    "                        'North America']) for _ in range(num_records)]"
   ]
  },
  {
   "cell_type": "markdown",
   "metadata": {},
   "source": [
    "Generate Product category"
   ]
  },
  {
   "cell_type": "code",
   "execution_count": 278,
   "metadata": {},
   "outputs": [],
   "source": [
    "Product_category= [random.choice(['Electronics', 'Clothing', 'Furniture', \n",
    "                        'Automobile']) for _ in range(num_records)]"
   ]
  },
  {
   "cell_type": "markdown",
   "metadata": {},
   "source": [
    "Generate Sales Date"
   ]
  },
  {
   "cell_type": "code",
   "execution_count": 279,
   "metadata": {},
   "outputs": [],
   "source": [
    "from datetime import datetime, timedelta\n",
    "start_date = datetime(2023, 1, 1)\n",
    "end_date = datetime(2023, 10, 30)"
   ]
  },
  {
   "cell_type": "code",
   "execution_count": 280,
   "metadata": {},
   "outputs": [],
   "source": [
    "def gen_random_date(start_date, end_date):\n",
    "    delta = end_date - start_date\n",
    "    random_days = random.randint(0, delta.days)\n",
    "    random_date = start_date + timedelta(days=random_days)\n",
    "    random_date = random_date.strftime(\"%Y-%m-%d\")\n",
    "    return random_date"
   ]
  },
  {
   "cell_type": "code",
   "execution_count": 281,
   "metadata": {},
   "outputs": [],
   "source": [
    "Sales_date = [gen_random_date(start_date, end_date) for _ in range(num_records)]"
   ]
  },
  {
   "cell_type": "markdown",
   "metadata": {},
   "source": [
    "Generate Cust ID"
   ]
  },
  {
   "cell_type": "code",
   "execution_count": 282,
   "metadata": {},
   "outputs": [],
   "source": [
    "def gen_cust_id():\n",
    "    upper_chars = ''.join(random.choice(string.ascii_uppercase) for _ in range(2))\n",
    "    digits = ''.join(random.choice(string.digits) for _ in range(6))\n",
    "    customer_id = upper_chars + digits\n",
    "    return customer_id"
   ]
  },
  {
   "cell_type": "code",
   "execution_count": 283,
   "metadata": {},
   "outputs": [],
   "source": [
    "Cust_ID = [gen_cust_id() for _ in range(num_records)]"
   ]
  },
  {
   "cell_type": "markdown",
   "metadata": {},
   "source": [
    "Generate Product ID"
   ]
  },
  {
   "cell_type": "code",
   "execution_count": 284,
   "metadata": {},
   "outputs": [],
   "source": [
    "Product_ID = np.random.randint(10000, 20001, size=num_records)"
   ]
  },
  {
   "cell_type": "markdown",
   "metadata": {},
   "source": [
    "Generate Product Name"
   ]
  },
  {
   "cell_type": "code",
   "execution_count": 285,
   "metadata": {},
   "outputs": [],
   "source": [
    "Product_Name = [f'Product {i}' for i in np.random.randint(1, 21, size=num_records)]"
   ]
  },
  {
   "cell_type": "markdown",
   "metadata": {},
   "source": [
    "Generate Product Quantity"
   ]
  },
  {
   "cell_type": "code",
   "execution_count": 286,
   "metadata": {},
   "outputs": [],
   "source": [
    "Quantity= np.random.randint(1, 11, size=num_records)"
   ]
  },
  {
   "cell_type": "markdown",
   "metadata": {},
   "source": [
    "Generate Product Unit Price"
   ]
  },
  {
   "cell_type": "code",
   "execution_count": 287,
   "metadata": {},
   "outputs": [],
   "source": [
    "Unit_Price= np.random.uniform(10, 100, size=num_records).round(2)"
   ]
  },
  {
   "cell_type": "markdown",
   "metadata": {},
   "source": [
    "Generate Discount"
   ]
  },
  {
   "cell_type": "code",
   "execution_count": 288,
   "metadata": {},
   "outputs": [],
   "source": [
    "Discount= np.random.uniform(0, 0.3, size=num_records).round(2)"
   ]
  },
  {
   "cell_type": "markdown",
   "metadata": {},
   "source": [
    "Generate Total Sales"
   ]
  },
  {
   "cell_type": "code",
   "execution_count": 289,
   "metadata": {},
   "outputs": [],
   "source": [
    "Total_Sales= [0] * num_records"
   ]
  },
  {
   "cell_type": "markdown",
   "metadata": {},
   "source": [
    "Create dictionary of these lists"
   ]
  },
  {
   "cell_type": "code",
   "execution_count": 290,
   "metadata": {},
   "outputs": [],
   "source": [
    "data = {\n",
    "    'Trans_ID': Trans_ID,\n",
    "    'Region': Region,\n",
    "    'Product_category' : Product_category,\n",
    "    'Sales_date': Sales_date,\n",
    "    'Cust_ID': Cust_ID,\n",
    "    'Product_ID': Product_ID,\n",
    "    'Product_Name': Product_Name,\n",
    "    'Quantity': Quantity,\n",
    "    'Unit_Price': Unit_Price,\n",
    "    'Discount': Discount,\n",
    "    'Total_Sales': Total_Sales\n",
    "}"
   ]
  },
  {
   "cell_type": "markdown",
   "metadata": {},
   "source": [
    "Calculates Total Sales using quan, unit price and discount"
   ]
  },
  {
   "cell_type": "code",
   "execution_count": 291,
   "metadata": {},
   "outputs": [],
   "source": [
    "for i in range(num_records):\n",
    "    data['Total_Sales'][i] = data['Quantity'][i]*(data['Unit_Price'][i]*(1 - data['Discount'][i]))"
   ]
  },
  {
   "cell_type": "markdown",
   "metadata": {},
   "source": [
    "Create dataframe from dict"
   ]
  },
  {
   "cell_type": "code",
   "execution_count": 292,
   "metadata": {},
   "outputs": [],
   "source": [
    "sales_df = pd.DataFrame(data)"
   ]
  },
  {
   "cell_type": "code",
   "execution_count": 293,
   "metadata": {},
   "outputs": [
    {
     "data": {
      "text/html": [
       "<div>\n",
       "<style scoped>\n",
       "    .dataframe tbody tr th:only-of-type {\n",
       "        vertical-align: middle;\n",
       "    }\n",
       "\n",
       "    .dataframe tbody tr th {\n",
       "        vertical-align: top;\n",
       "    }\n",
       "\n",
       "    .dataframe thead th {\n",
       "        text-align: right;\n",
       "    }\n",
       "</style>\n",
       "<table border=\"1\" class=\"dataframe\">\n",
       "  <thead>\n",
       "    <tr style=\"text-align: right;\">\n",
       "      <th></th>\n",
       "      <th>Trans_ID</th>\n",
       "      <th>Region</th>\n",
       "      <th>Product_category</th>\n",
       "      <th>Sales_date</th>\n",
       "      <th>Cust_ID</th>\n",
       "      <th>Product_ID</th>\n",
       "      <th>Product_Name</th>\n",
       "      <th>Quantity</th>\n",
       "      <th>Unit_Price</th>\n",
       "      <th>Discount</th>\n",
       "      <th>Total_Sales</th>\n",
       "    </tr>\n",
       "  </thead>\n",
       "  <tbody>\n",
       "    <tr>\n",
       "      <th>0</th>\n",
       "      <td>KGsoHiqWVara</td>\n",
       "      <td>Asia</td>\n",
       "      <td>Furniture</td>\n",
       "      <td>2023-07-11</td>\n",
       "      <td>CK323129</td>\n",
       "      <td>19054</td>\n",
       "      <td>Product 1</td>\n",
       "      <td>6</td>\n",
       "      <td>61.74</td>\n",
       "      <td>0.05</td>\n",
       "      <td>351.9180</td>\n",
       "    </tr>\n",
       "    <tr>\n",
       "      <th>1</th>\n",
       "      <td>kj2nKh14MYWB</td>\n",
       "      <td>Asia</td>\n",
       "      <td>Furniture</td>\n",
       "      <td>2023-07-03</td>\n",
       "      <td>WW030907</td>\n",
       "      <td>10037</td>\n",
       "      <td>Product 8</td>\n",
       "      <td>6</td>\n",
       "      <td>72.96</td>\n",
       "      <td>0.06</td>\n",
       "      <td>411.4944</td>\n",
       "    </tr>\n",
       "    <tr>\n",
       "      <th>2</th>\n",
       "      <td>VeY8VHbnwMeG</td>\n",
       "      <td>Europe</td>\n",
       "      <td>Furniture</td>\n",
       "      <td>2023-05-30</td>\n",
       "      <td>DB609859</td>\n",
       "      <td>16488</td>\n",
       "      <td>Product 8</td>\n",
       "      <td>7</td>\n",
       "      <td>76.53</td>\n",
       "      <td>0.28</td>\n",
       "      <td>385.7112</td>\n",
       "    </tr>\n",
       "    <tr>\n",
       "      <th>3</th>\n",
       "      <td>aIrplLM1ztyk</td>\n",
       "      <td>Asia</td>\n",
       "      <td>Electronics</td>\n",
       "      <td>2023-07-15</td>\n",
       "      <td>JY198747</td>\n",
       "      <td>18721</td>\n",
       "      <td>Product 9</td>\n",
       "      <td>2</td>\n",
       "      <td>87.84</td>\n",
       "      <td>0.09</td>\n",
       "      <td>159.8688</td>\n",
       "    </tr>\n",
       "    <tr>\n",
       "      <th>4</th>\n",
       "      <td>zFxrPhjmCJDE</td>\n",
       "      <td>North America</td>\n",
       "      <td>Clothing</td>\n",
       "      <td>2023-07-20</td>\n",
       "      <td>WT728547</td>\n",
       "      <td>12870</td>\n",
       "      <td>Product 5</td>\n",
       "      <td>7</td>\n",
       "      <td>31.25</td>\n",
       "      <td>0.07</td>\n",
       "      <td>203.4375</td>\n",
       "    </tr>\n",
       "    <tr>\n",
       "      <th>...</th>\n",
       "      <td>...</td>\n",
       "      <td>...</td>\n",
       "      <td>...</td>\n",
       "      <td>...</td>\n",
       "      <td>...</td>\n",
       "      <td>...</td>\n",
       "      <td>...</td>\n",
       "      <td>...</td>\n",
       "      <td>...</td>\n",
       "      <td>...</td>\n",
       "      <td>...</td>\n",
       "    </tr>\n",
       "    <tr>\n",
       "      <th>995</th>\n",
       "      <td>TaWrmSl488Br</td>\n",
       "      <td>North America</td>\n",
       "      <td>Automobile</td>\n",
       "      <td>2023-05-06</td>\n",
       "      <td>KI682288</td>\n",
       "      <td>13260</td>\n",
       "      <td>Product 4</td>\n",
       "      <td>10</td>\n",
       "      <td>89.20</td>\n",
       "      <td>0.18</td>\n",
       "      <td>731.4400</td>\n",
       "    </tr>\n",
       "    <tr>\n",
       "      <th>996</th>\n",
       "      <td>dYRxN5rCW4j3</td>\n",
       "      <td>Asia</td>\n",
       "      <td>Clothing</td>\n",
       "      <td>2023-02-12</td>\n",
       "      <td>MW829776</td>\n",
       "      <td>14947</td>\n",
       "      <td>Product 7</td>\n",
       "      <td>4</td>\n",
       "      <td>54.64</td>\n",
       "      <td>0.04</td>\n",
       "      <td>209.8176</td>\n",
       "    </tr>\n",
       "    <tr>\n",
       "      <th>997</th>\n",
       "      <td>ZdXr5k6IdgsK</td>\n",
       "      <td>Middle East</td>\n",
       "      <td>Furniture</td>\n",
       "      <td>2023-02-03</td>\n",
       "      <td>PZ927176</td>\n",
       "      <td>12424</td>\n",
       "      <td>Product 1</td>\n",
       "      <td>10</td>\n",
       "      <td>60.11</td>\n",
       "      <td>0.06</td>\n",
       "      <td>565.0340</td>\n",
       "    </tr>\n",
       "    <tr>\n",
       "      <th>998</th>\n",
       "      <td>ZlO6LsyxZ676</td>\n",
       "      <td>North America</td>\n",
       "      <td>Electronics</td>\n",
       "      <td>2023-06-15</td>\n",
       "      <td>HA303934</td>\n",
       "      <td>13891</td>\n",
       "      <td>Product 11</td>\n",
       "      <td>9</td>\n",
       "      <td>73.18</td>\n",
       "      <td>0.29</td>\n",
       "      <td>467.6202</td>\n",
       "    </tr>\n",
       "    <tr>\n",
       "      <th>999</th>\n",
       "      <td>Jt7lKi0QtLj8</td>\n",
       "      <td>North America</td>\n",
       "      <td>Furniture</td>\n",
       "      <td>2023-05-18</td>\n",
       "      <td>FG757740</td>\n",
       "      <td>16900</td>\n",
       "      <td>Product 7</td>\n",
       "      <td>6</td>\n",
       "      <td>62.11</td>\n",
       "      <td>0.16</td>\n",
       "      <td>313.0344</td>\n",
       "    </tr>\n",
       "  </tbody>\n",
       "</table>\n",
       "<p>1000 rows × 11 columns</p>\n",
       "</div>"
      ],
      "text/plain": [
       "         Trans_ID         Region Product_category  Sales_date   Cust_ID  \\\n",
       "0    KGsoHiqWVara           Asia        Furniture  2023-07-11  CK323129   \n",
       "1    kj2nKh14MYWB           Asia        Furniture  2023-07-03  WW030907   \n",
       "2    VeY8VHbnwMeG         Europe        Furniture  2023-05-30  DB609859   \n",
       "3    aIrplLM1ztyk           Asia      Electronics  2023-07-15  JY198747   \n",
       "4    zFxrPhjmCJDE  North America         Clothing  2023-07-20  WT728547   \n",
       "..            ...            ...              ...         ...       ...   \n",
       "995  TaWrmSl488Br  North America       Automobile  2023-05-06  KI682288   \n",
       "996  dYRxN5rCW4j3           Asia         Clothing  2023-02-12  MW829776   \n",
       "997  ZdXr5k6IdgsK    Middle East        Furniture  2023-02-03  PZ927176   \n",
       "998  ZlO6LsyxZ676  North America      Electronics  2023-06-15  HA303934   \n",
       "999  Jt7lKi0QtLj8  North America        Furniture  2023-05-18  FG757740   \n",
       "\n",
       "     Product_ID Product_Name  Quantity  Unit_Price  Discount  Total_Sales  \n",
       "0         19054    Product 1         6       61.74      0.05     351.9180  \n",
       "1         10037    Product 8         6       72.96      0.06     411.4944  \n",
       "2         16488    Product 8         7       76.53      0.28     385.7112  \n",
       "3         18721    Product 9         2       87.84      0.09     159.8688  \n",
       "4         12870    Product 5         7       31.25      0.07     203.4375  \n",
       "..          ...          ...       ...         ...       ...          ...  \n",
       "995       13260    Product 4        10       89.20      0.18     731.4400  \n",
       "996       14947    Product 7         4       54.64      0.04     209.8176  \n",
       "997       12424    Product 1        10       60.11      0.06     565.0340  \n",
       "998       13891   Product 11         9       73.18      0.29     467.6202  \n",
       "999       16900    Product 7         6       62.11      0.16     313.0344  \n",
       "\n",
       "[1000 rows x 11 columns]"
      ]
     },
     "execution_count": 293,
     "metadata": {},
     "output_type": "execute_result"
    }
   ],
   "source": [
    "sales_df"
   ]
  },
  {
   "cell_type": "markdown",
   "metadata": {},
   "source": [
    "Save the Dataset"
   ]
  },
  {
   "cell_type": "code",
   "execution_count": 294,
   "metadata": {},
   "outputs": [],
   "source": [
    "sales_df.to_csv(\"synthetic_sales_data.csv\")"
   ]
  },
  {
   "cell_type": "code",
   "execution_count": null,
   "metadata": {},
   "outputs": [],
   "source": []
  }
 ],
 "metadata": {
  "kernelspec": {
   "display_name": "test",
   "language": "python",
   "name": "python3"
  },
  "language_info": {
   "codemirror_mode": {
    "name": "ipython",
    "version": 3
   },
   "file_extension": ".py",
   "mimetype": "text/x-python",
   "name": "python",
   "nbconvert_exporter": "python",
   "pygments_lexer": "ipython3",
   "version": "3.10.13"
  }
 },
 "nbformat": 4,
 "nbformat_minor": 2
}

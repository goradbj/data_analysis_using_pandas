{
 "cells": [
  {
   "cell_type": "code",
   "execution_count": 1,
   "metadata": {},
   "outputs": [
    {
     "name": "stdout",
     "output_type": "stream",
     "text": [
      "Requirement already satisfied: pyarrow in c:\\users\\admin\\.conda\\envs\\test\\lib\\site-packages (13.0.0)\n",
      "Requirement already satisfied: numpy>=1.16.6 in c:\\users\\admin\\.conda\\envs\\test\\lib\\site-packages (from pyarrow) (1.26.1)\n",
      "Note: you may need to restart the kernel to use updated packages.\n"
     ]
    }
   ],
   "source": [
    "pip install pyarrow"
   ]
  },
  {
   "cell_type": "code",
   "execution_count": 2,
   "metadata": {},
   "outputs": [],
   "source": [
    "import pandas as pd"
   ]
  },
  {
   "cell_type": "code",
   "execution_count": 3,
   "metadata": {},
   "outputs": [
    {
     "data": {
      "text/html": [
       "<div>\n",
       "<style scoped>\n",
       "    .dataframe tbody tr th:only-of-type {\n",
       "        vertical-align: middle;\n",
       "    }\n",
       "\n",
       "    .dataframe tbody tr th {\n",
       "        vertical-align: top;\n",
       "    }\n",
       "\n",
       "    .dataframe thead th {\n",
       "        text-align: right;\n",
       "    }\n",
       "</style>\n",
       "<table border=\"1\" class=\"dataframe\">\n",
       "  <thead>\n",
       "    <tr style=\"text-align: right;\">\n",
       "      <th></th>\n",
       "      <th>product_id</th>\n",
       "      <th>name</th>\n",
       "      <th>brand</th>\n",
       "      <th>price</th>\n",
       "      <th>category</th>\n",
       "      <th>in_stock</th>\n",
       "      <th>description</th>\n",
       "      <th>specs</th>\n",
       "    </tr>\n",
       "  </thead>\n",
       "  <tbody>\n",
       "    <tr>\n",
       "      <th>0</th>\n",
       "      <td>1</td>\n",
       "      <td>Laptop</td>\n",
       "      <td>TechMaster</td>\n",
       "      <td>899.99</td>\n",
       "      <td>Electronics</td>\n",
       "      <td>True</td>\n",
       "      <td>Powerful laptop for work and gaming.</td>\n",
       "      <td>{'capacity': None, 'color': None, 'gender': No...</td>\n",
       "    </tr>\n",
       "    <tr>\n",
       "      <th>1</th>\n",
       "      <td>2</td>\n",
       "      <td>Smartphone</td>\n",
       "      <td>GadgetPro</td>\n",
       "      <td>499.99</td>\n",
       "      <td>Electronics</td>\n",
       "      <td>True</td>\n",
       "      <td>High-performance smartphone with a stunning di...</td>\n",
       "      <td>{'capacity': None, 'color': None, 'gender': No...</td>\n",
       "    </tr>\n",
       "    <tr>\n",
       "      <th>2</th>\n",
       "      <td>3</td>\n",
       "      <td>Coffee Maker</td>\n",
       "      <td>BrewMaster</td>\n",
       "      <td>49.99</td>\n",
       "      <td>Kitchen Appliances</td>\n",
       "      <td>False</td>\n",
       "      <td>Brew your favorite coffee at home.</td>\n",
       "      <td>{'capacity': '12 cups', 'color': 'Black', 'gen...</td>\n",
       "    </tr>\n",
       "    <tr>\n",
       "      <th>3</th>\n",
       "      <td>4</td>\n",
       "      <td>Running Shoes</td>\n",
       "      <td>FitFlex</td>\n",
       "      <td>79.99</td>\n",
       "      <td>Sports &amp; Outdoors</td>\n",
       "      <td>True</td>\n",
       "      <td>Comfortable and stylish running shoes for athl...</td>\n",
       "      <td>{'capacity': None, 'color': 'Blue/White', 'gen...</td>\n",
       "    </tr>\n",
       "  </tbody>\n",
       "</table>\n",
       "</div>"
      ],
      "text/plain": [
       "   product_id           name       brand   price            category  \\\n",
       "0           1         Laptop  TechMaster  899.99         Electronics   \n",
       "1           2     Smartphone   GadgetPro  499.99         Electronics   \n",
       "2           3   Coffee Maker  BrewMaster   49.99  Kitchen Appliances   \n",
       "3           4  Running Shoes     FitFlex   79.99   Sports & Outdoors   \n",
       "\n",
       "   in_stock                                        description  \\\n",
       "0      True               Powerful laptop for work and gaming.   \n",
       "1      True  High-performance smartphone with a stunning di...   \n",
       "2     False                 Brew your favorite coffee at home.   \n",
       "3      True  Comfortable and stylish running shoes for athl...   \n",
       "\n",
       "                                               specs  \n",
       "0  {'capacity': None, 'color': None, 'gender': No...  \n",
       "1  {'capacity': None, 'color': None, 'gender': No...  \n",
       "2  {'capacity': '12 cups', 'color': 'Black', 'gen...  \n",
       "3  {'capacity': None, 'color': 'Blue/White', 'gen...  "
      ]
     },
     "execution_count": 3,
     "metadata": {},
     "output_type": "execute_result"
    }
   ],
   "source": [
    "df = pd.read_feather('data/products.feather')\n",
    "df"
   ]
  },
  {
   "cell_type": "code",
   "execution_count": 4,
   "metadata": {},
   "outputs": [],
   "source": [
    "df.to_feather(\"data/products.feather\")"
   ]
  },
  {
   "cell_type": "code",
   "execution_count": null,
   "metadata": {},
   "outputs": [],
   "source": []
  }
 ],
 "metadata": {
  "kernelspec": {
   "display_name": "test",
   "language": "python",
   "name": "python3"
  },
  "language_info": {
   "codemirror_mode": {
    "name": "ipython",
    "version": 3
   },
   "file_extension": ".py",
   "mimetype": "text/x-python",
   "name": "python",
   "nbconvert_exporter": "python",
   "pygments_lexer": "ipython3",
   "version": "3.10.13"
  }
 },
 "nbformat": 4,
 "nbformat_minor": 2
}
